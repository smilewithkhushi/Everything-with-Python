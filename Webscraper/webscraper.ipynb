{
  "nbformat": 4,
  "nbformat_minor": 0,
  "metadata": {
    "colab": {
      "provenance": []
    },
    "kernelspec": {
      "name": "python3",
      "display_name": "Python 3"
    },
    "language_info": {
      "name": "python"
    }
  },
  "cells": [
    {
      "cell_type": "markdown",
      "source": [
        "**SCRAPING WISDOM PET MEDICINE WEBSITE**"
      ],
      "metadata": {
        "id": "1pUxBngk9K5q"
      }
    },
    {
      "cell_type": "code",
      "execution_count": null,
      "metadata": {
        "colab": {
          "base_uri": "https://localhost:8080/"
        },
        "id": "b0QYty638_ij",
        "outputId": "03cb2435-2b3e-4cdb-866f-9ea5522bc805"
      },
      "outputs": [
        {
          "output_type": "stream",
          "name": "stdout",
          "text": [
            "Requirement already satisfied: requests in /usr/local/lib/python3.10/dist-packages (2.27.1)\n",
            "Requirement already satisfied: urllib3<1.27,>=1.21.1 in /usr/local/lib/python3.10/dist-packages (from requests) (1.26.16)\n",
            "Requirement already satisfied: certifi>=2017.4.17 in /usr/local/lib/python3.10/dist-packages (from requests) (2023.7.22)\n",
            "Requirement already satisfied: charset-normalizer~=2.0.0 in /usr/local/lib/python3.10/dist-packages (from requests) (2.0.12)\n",
            "Requirement already satisfied: idna<4,>=2.5 in /usr/local/lib/python3.10/dist-packages (from requests) (3.4)\n"
          ]
        }
      ],
      "source": [
        "#install requests package\n",
        "%pip install requests"
      ]
    },
    {
      "cell_type": "markdown",
      "source": [
        "Imports run first"
      ],
      "metadata": {
        "id": "vzZ7lsSt9cI4"
      }
    },
    {
      "cell_type": "code",
      "source": [
        "#import requests packagge\n",
        "import requests"
      ],
      "metadata": {
        "id": "9pv2jrza9IuN"
      },
      "execution_count": null,
      "outputs": []
    },
    {
      "cell_type": "markdown",
      "source": [
        "How to use the get method\n",
        "\n",
        "---"
      ],
      "metadata": {
        "id": "XR0T9btX9eWA"
      }
    },
    {
      "cell_type": "code",
      "source": [
        "#scrape data from wisdom pet medicine website\n",
        "requests.get(\"https://wisdompetmed.com/\")"
      ],
      "metadata": {
        "colab": {
          "base_uri": "https://localhost:8080/"
        },
        "id": "QW5tXqmG9YYR",
        "outputId": "f2fec322-04e8-4bfe-d574-aeae5e2f5a72"
      },
      "execution_count": null,
      "outputs": [
        {
          "output_type": "execute_result",
          "data": {
            "text/plain": [
              "<Response [200]>"
            ]
          },
          "metadata": {},
          "execution_count": 24
        }
      ]
    },
    {
      "cell_type": "code",
      "source": [
        "#scrape data form wisdom pet medicine website and save response to variable\n",
        "response = requests.get(\"https://wisdompetmed.com/\")"
      ],
      "metadata": {
        "id": "QCkrCywP9dOl"
      },
      "execution_count": null,
      "outputs": []
    },
    {
      "cell_type": "markdown",
      "source": [
        "How to retrieve web page information\n",
        "\n",
        "---\n",
        "\n"
      ],
      "metadata": {
        "id": "HBby-NU695o1"
      }
    },
    {
      "cell_type": "code",
      "source": [
        "#retrieve url of wisdom pet medicine website\n",
        "response.url"
      ],
      "metadata": {
        "colab": {
          "base_uri": "https://localhost:8080/",
          "height": 35
        },
        "id": "vxPLwL2g90Lb",
        "outputId": "df00c4b5-f154-4f7c-dad1-7906caee4428"
      },
      "execution_count": null,
      "outputs": [
        {
          "output_type": "execute_result",
          "data": {
            "text/plain": [
              "'https://wisdompetmed.com/'"
            ],
            "application/vnd.google.colaboratory.intrinsic+json": {
              "type": "string"
            }
          },
          "metadata": {},
          "execution_count": 26
        }
      ]
    },
    {
      "cell_type": "code",
      "source": [
        "#retrieve status code of website\n",
        "response.status_code"
      ],
      "metadata": {
        "colab": {
          "base_uri": "https://localhost:8080/"
        },
        "id": "nwlgDP5a99_e",
        "outputId": "a2c2b062-9238-469e-bd8d-33b0aaee3419"
      },
      "execution_count": null,
      "outputs": [
        {
          "output_type": "execute_result",
          "data": {
            "text/plain": [
              "200"
            ]
          },
          "metadata": {},
          "execution_count": 27
        }
      ]
    },
    {
      "cell_type": "markdown",
      "source": [
        "STATUS CODES\n",
        "\n",
        "*   100-199 : Informational Codes\n",
        "*   200-299 : Successful Codes\n",
        "*   300-399 : Redirection Codes\n",
        "*   400-499 : client error codes\n",
        "*   500-599 : Server Error Codes"
      ],
      "metadata": {
        "id": "LTx6cYyh-Gk1"
      }
    },
    {
      "cell_type": "code",
      "source": [
        "#retrieve headers of website\n",
        "response.headers"
      ],
      "metadata": {
        "colab": {
          "base_uri": "https://localhost:8080/"
        },
        "id": "ArI0BdE2-E8W",
        "outputId": "ca9dd896-0a47-42a0-b135-ff9ff1ce6e3f"
      },
      "execution_count": null,
      "outputs": [
        {
          "output_type": "execute_result",
          "data": {
            "text/plain": [
              "{'Server': 'nginx', 'Date': 'Sun, 30 Jul 2023 03:32:03 GMT', 'Content-Type': 'text/html', 'Transfer-Encoding': 'chunked', 'Connection': 'keep-alive', 'Vary': 'Accept-Encoding', 'Last-Modified': 'Wed, 18 May 2022 17:53:15 GMT', 'ETag': 'W/\"3239-5df4cee7de655\"', 'X-Httpd-Modphp': '1', 'Host-Header': '8441280b0c35cbc1147f8ba998a563a7', 'X-Proxy-Cache': 'HIT', 'Content-Encoding': 'gzip'}"
            ]
          },
          "metadata": {},
          "execution_count": 28
        }
      ]
    },
    {
      "cell_type": "markdown",
      "source": [
        "**How to retrieve HTML Code**\n",
        "---\n",
        "\n"
      ],
      "metadata": {
        "id": "7o7crVDk--ry"
      }
    },
    {
      "cell_type": "code",
      "source": [
        "#retrieve contrent of website\n",
        "response.content"
      ],
      "metadata": {
        "colab": {
          "base_uri": "https://localhost:8080/"
        },
        "id": "td4PefW7-2-w",
        "outputId": "c81e4287-ed69-4e80-fc1e-3267a2fe3b5d"
      },
      "execution_count": null,
      "outputs": [
        {
          "output_type": "execute_result",
          "data": {
            "text/plain": [
              "b'<!DOCTYPE html>\\n<html lang=\"en\">\\n\\n<head>\\n  <meta charset=\"UTF-8\">\\n  <title>Wisdom Pet Medicine</title>\\n  <link rel=\"stylesheet\" href=\"https://maxcdn.bootstrapcdn.com/bootstrap/3.3.1/css/bootstrap.min.css\">\\n  <link rel=\"stylesheet\" href=\"css/style.css\">\\n  <script src=\"js/prefixfree.min.js\"></script>\\n  <meta name=\"viewport\" content=\"width=device-width, initial-scale=1\">\\n</head>\\n\\n<body>\\n\\n<header>\\n  <nav class=\"navbar navbar-default navbar-fixed-top\" role=\"navigation\">\\n    <div class=\"container\">\\n      <div class=\"navbar-header\">\\n        <button type=\"button\" class=\"navbar-toggle collapsed\" data-toggle=\"collapse\" data-target=\"#collapse\">\\n          <span class=\"sr-only\">Toggle navigation</span>\\n          <span class=\"icon-bar\"></span>\\n          <span class=\"icon-bar\"></span>\\n          <span class=\"icon-bar\"></span>\\n        </button>\\n        <a class=\"navbar-brand\" href=\"#featured\"><h1>Wisdom <span class=\"subhead\">Pet Medicine</span></h1></a>\\n      </div><!-- navbar-header -->\\n      <div class=\"collapse navbar-collapse\" id=\"collapse\">\\n        <ul class=\"nav navbar-nav navbar-right\">\\n          <li class=\"active\"><a href=\"#featured\">Home</a></li>\\n          <li><a href=\"#mission\">Mission</a></li>\\n          <li><a href=\"#services\">Services</a></li>\\n          <li><a href=\"#staff\">Staff</a></li>\\n          <li><a href=\"#testimonials\">Testimonials</a></li>\\n        </ul>        \\n      </div><!-- collapse navbar-collapse -->\\n    </div><!-- container -->\\n  </nav>\\n\\n  <div class=\"carousel fade\" data-ride=\"carousel\" id=\"featured\">\\n\\n    <ol class=\"carousel-indicators\">\\n    </ol>\\n\\n    <div class=\"carousel-inner fullheight\">\\n      <div class=\"item\"><img src=\"images/carousel-lifestyle.jpg\" alt=\"Lifestyle Photo\"></div>\\n      <div class=\"item\"><img src=\"images/carousel-mission.jpg\" alt=\"Mission\"></div>\\n      <div class=\"item\"><img src=\"images/carousel-vaccinations.jpg\" alt=\"Vaccinations\"></div>\\n      <div class=\"item\"><img src=\"images/carousel-parakeet.jpg\" alt=\"Fish\"></div>\\n      <div class=\"item\"><img src=\"images/carousel-exoticanimals.jpg\" alt=\"Exotic Animals\"></div>      \\n    </div><!-- carousel-inner -->\\n\\n    <a class=\"left carousel-control\" href=\"#featured\" role=\"button\" data-slide=\"prev\">\\n      <span class=\"glyphicon glyphicon-chevron-left\"></span>\\n    </a>\\n    <a class=\"right carousel-control\" href=\"#featured\" role=\"button\" data-slide=\"next\">\\n      <span class=\"glyphicon glyphicon-chevron-right\"></span>\\n    </a>\\n  </div><!-- featured carousel -->\\n</header>\\n\\n<div class=\"main\">\\n  <div class=\"page\" id=\"mission\">\\n    <div class=\"content container\">\\n      <h2>Our Mission</h2>      \\n      <div class=\"row\">\\n        <p class=\"col-md-5 col-md-offset-1\">Wisdom Pet Medicine strives to blend the best in traditional and alternative medicine in the diagnosis and treatment of companion animals including dogs, cats, birds, reptiles, rodents, and fish. We apply the wisdom garnered in the centuries old tradition of veterinary medicine, to find the safest treatments and&nbsp;cures.</p>\\n        <p class=\"col-md-5\">We strive to be your pet\\'s medical experts from youth through the senior years. We build preventative health care plans for each and every one of our patients, based on breed, age, and sex, so that your pet receives the most appropriate care at crucial milestones. We want to give your pet a long and healthy&nbsp;life.</p>\\n      </div><!-- row -->\\n    </div><!-- content container -->\\n  </div><!-- mission page -->\\n\\n  <div class=\"page\" id=\"services\">\\n    <div class=\"content container\">\\n      <h2>Services</h2>\\n      <div class=\"row\">\\n        <article class=\"service col-md-4 col-sm-6 col-xs-12\">\\n          <img class=\"icon\" src=\"images/icon-exoticpets.svg\" alt=\"Icon\">\\n          <h3>Exotic Pets</h3>\\n          <p>We offer specialized care for reptiles, rodents, birds, and other exotic pets.</p>\\n        </article>\\n\\n        <article class=\"service col-md-4 col-sm-6 col-xs-12\">\\n          <img class=\"icon\" src=\"images/icon-grooming.svg\" alt=\"Icon\">\\n          <h3>Grooming</h3>\\n          <p>Our therapeutic grooming treatments help battle fleas, allergic dermatitis, and other challenging skin conditions.</p>\\n        </article>\\n\\n        <article class=\"service col-md-4 col-sm-6 col-xs-12\">\\n          <img class=\"icon\" src=\"images/icon-health.svg\" alt=\"Icon\">\\n          <h3>GeneralHealth</h3>\\n          <p>Wellness and senior exams, ultrasound, x-ray, and dental cleanings are just a few of our general health services.</p>\\n        </article>\\n\\n        <article class=\"service col-md-4 col-sm-6 col-xs-12\">\\n          <img class=\"icon\" src=\"images/icon-nutrition.svg\" alt=\"Icon\">\\n          <h3>Nutrition</h3>\\n          <p>Let our nutrition experts review your pet\\'s diet and prescribe a custom nutrition plan for optimum health and disease prevention.</p>\\n        </article>\\n\\n        <article class=\"service col-md-4 col-sm-6 col-xs-12\">\\n          <img class=\"icon\" src=\"images/icon-pestcontrol.svg\" alt=\"Icon\">\\n          <h3>Pest Control</h3>\\n          <p>We offer the latest advances in safe and effective prevention and treatment of fleas, ticks, worms, heart worm, and other parasites.</p>\\n        </article>\\n\\n        <article class=\"service col-md-4 col-sm-6 col-xs-12\">\\n          <img class=\"icon\" src=\"images/icon-vaccinations.svg\" alt=\"Icon\">\\n          <h3>Vaccinations</h3>\\n          <p>Our veterinarians are experienced in modern vaccination protocols that prevent many of the deadliest diseases in pets.</p>\\n        </article>   \\n      </div><!-- row -->   \\n    </div><!-- content container -->\\n  </div><!-- services page -->\\n\\n  <div class=\"page\" id=\"staff\">\\n    <div class=\"container-fluid\">\\n      <h2 id=\"ourstaff\">Our Staff</h2>\\n      <div class=\"row\">\\n\\n        <div class=\"doctor col-lg-4\">\\n          <div class=\"row\">\\n            <div class=\"photo col-xs-6 col-xs-offset-3 col-sm-3 col-sm-offset-1 col-md-2 col-md-offset-2 col-lg-4 col-lg-offset-0\">\\n              <img class=\"img-circle\" src=\"images/doctor-winthrop.jpg\" alt=\"Photo of Dr Sanders\">\\n            </div><!-- photo -->\\n            <div class=\"info col-xs-8 col-xs-offset-2 col-sm-7 col-sm-offset-0 col-md-6 col-lg-8\">\\n              <h3>Dr. Winthrop</h3>\\n              <p>Dr. Winthrop is the guardian of Missy, a three-year old Llaso mix, who he adopted at the shelter. Dr. Winthrop is passionate about spay and neuter and pet adoption, and works tireless hours outside the clinic, performing free spay and neuter surgeries for the shelter.</p>\\n            </div><!-- info -->\\n          </div> <!-- inner row -->\\n        </div> <!-- doctor -->\\n\\n        <div class=\"doctor col-lg-4\">\\n          <div class=\"row\">\\n            <div class=\"photo col-xs-6 col-xs-offset-3 col-sm-3 col-sm-offset-1 col-md-2 col-md-offset-2 col-lg-4 col-lg-offset-0\">\\n              <img class=\"img-circle\" src=\"images/doctor-chase.jpg\"  alt=\"Photo of Dr Sanders\">\\n            </div><!-- photo -->\\n            <div class=\"info col-xs-8 col-xs-offset-2 col-sm-7 col-sm-offset-0 col-md-6 col-lg-8\">\\n              <h3>Dr. Chase</h3>\\n              <p>Dr. Chase spends much of her free time helping the local rescue organization find homes for animals, such as Kibbles - a Maine Coon Cat who is part of the large Chase household, including two dogs, three cats, and a turtle.</p>\\n            </div><!-- info -->\\n          </div> <!-- inner row -->\\n        </div> <!-- doctor -->\\n\\n        <div class=\"doctor col-lg-4\">\\n          <div class=\"row\">\\n            <div class=\"photo col-xs-6 col-xs-offset-3 col-sm-3 col-sm-offset-1 col-md-2 col-md-offset-2 col-lg-4 col-lg-offset-0\">\\n              <img class=\"img-circle\" src=\"images/doctor-sanders.jpg\" alt=\"Photo of Dr Sanders\">\\n            </div><!-- photo -->\\n            <div class=\"info col-xs-8 col-xs-offset-2 col-sm-7 col-sm-offset-0 col-md-6 col-lg-8\">\\n              <h3>Dr Sanders</h3>\\n             <p>Leroy walked into Dr. Sanders front door when he was moving into a new house. After searching for weeks for Leroy\\'s guardians, he decided to make Leroy a part of his pet family, and now has three cats.</p>\\n            </div><!-- info -->\\n          </div> <!-- inner row -->\\n        </div> <!-- doctor -->\\n\\n\\n      </div><!-- outer row -->\\n    </div><!-- container -->\\n  </div><!-- staff page -->\\n\\n  <div class=\"page\" id=\"testimonials\">\\n    <div class=\"container-fluid\">\\n      <h2>Testimonials</h2>\\n      <div class=\"row\">\\n        <blockquote class=\"col-md-6 col-lg-3\" id=\"janeh\">\\n          <div class=\"quote\">\\n            <span class=\"intro\">During the summer, our rabbit, Tonto, began to have severe redness</span>\\n            <span class=\"more\"> and itching on his belly and feet. Through diagnostic testing, we learned that Tonto is severely allergic to over a dozens kinds of grass pollens. We\\'ve now been doing allergy injections for several months, and his itching and redness have nearly gone away. I\\'m very thankful to the veterinarians and staff at Wisdom for the excellent care Tonto received, and for nipping his allergies in the bud, so to speak.</span>\\n            <span class=\"customer\">Jane H.</span>\\n          </div>\\n        </blockquote>\\n\\n        <blockquote class=\"col-md-6 col-lg-3\" id=\"mcphersons\">\\n          <div class=\"quote\">\\n            <span class=\"intro\">When Samantha, our Siamese cat, began sleeping all the time</span>\\n            <span class=\"more\">and urinating excessively, we brought her to see the specialists at Wisdom. After running a blood test, Dr. Winthrop confirmed what we all feared - Samantha was showing signs of diabetes. The doctor put us on a daily routine to provide Samantha insulin injections, and showed us how to administer the shots. We weren\\'t sure we could do it, but the gang at Wisdom was very supportive and encouraging. Now, two years later, Samantha is still free from any complications of diabetes, and her blood sugar regularly tests normal. Thank you, Wisdom Pet Medicine!</span>\\n            <span class=\"customer\">The McPhersons</span>\\n          </div>\\n        </blockquote>\\n\\n        <blockquote class=\"col-md-6 col-lg-3\" id=\"johnb\">\\n          <div class=\"quote\">\\n            <span class=\"intro\">The staff at Wisdom worked tirelessly to determine why our three-year old</span>\\n            <span class=\"more\">Golden Retriever, Roxie, started going into sudden kidney failure. They stabilized her and provided fluids until her kidneys were again functioning normally, but it was still a mystery as to what caused her health to decline so quickly. The vet noted our address on Roxie\\'s chart, and asked if we lived on one of the orchards in the vicinity, and if Roxie had a habit of eating grapes off the vine. Our answer was \"of course \\xe2\\x80\\x93 she\\'s a Retriever.\" That day we learned just how toxic grapes and raisins are to pets, and Roxie is no longer allowed to roam unattended in the orchard.</span>\\n            <span class=\"customer\">John B</span>\\n          </div>\\n        </blockquote>\\n\\n        <blockquote class=\"col-md-6 col-lg-3\" id=\"lorraines\">\\n          <div class=\"quote\">\\n            <span class=\"intro\">Wisdom Pet Medicine is the only clinic around that will even</span>\\n            <span class=\"more\">book pet fish for appointments. When our 13-year old Comet goldfish, McAllister, turned from silvery white to an angry red, we called around, urgently trying to find a veterinarian who could help. Wisdom not only got us in the same day, but also was able to diagnose McAllister as having a severe case of septicemia. In order to kill the harmful bacteria in his blood, we had to use a dog antibiotic in his tank every day for a week, and in the end, McAllister was good as new. I still smile upon remembering Dr. Chase pulling out an old vet school textbook to calculate the correct antibiotic dose for a fish!</span>\\n            <span class=\"customer\">Lorraine S</span>\\n          </div>\\n        </blockquote>          \\n      </div>\\n    </div><!-- container -->\\n  </div><!-- testimonials page -->\\n</div><!-- main -->\\n\\n<footer>\\n  <div class=\"content container-fluid\">\\n    <div class=\"row\">\\n      <div class=\"col-sm-6\">\\n        <p>Call us toll-free at <span class=\"phone\">888-555-1212</span></p>\\n        <p>All contents &copy; 2014 <a href=\"http://lynda.com\">Lynda.com</a>. All rights reserved.</p>    \\n      </div><!-- col-sm-6 -->\\n      <div class=\"col-sm-6\">\\n        <nav class=\"navbar navbar-default\" role=\"navigation\">\\n          <ul class=\"nav navbar-nav navbar-right\">\\n            <li><a href=\"#\">Terms of use</a></li>\\n            <li><a href=\"#\">Privacy policy</a></li>\\n          </ul>\\n        </nav>        \\n      </div><!-- col-sm-6 -->\\n    </div><!-- row -->\\n  </div><!-- content container -->\\n</footer>\\n\\n<script src=\"https://ajax.googleapis.com/ajax/libs/jquery/1.11.1/jquery.min.js\"></script>\\n<script src=\"https://maxcdn.bootstrapcdn.com/bootstrap/3.3.1/js/bootstrap.min.js\"></script>\\n<script src=\"js/myscript.js\"></script>\\n</body>\\n</html>\\n'"
            ]
          },
          "metadata": {},
          "execution_count": 29
        }
      ]
    },
    {
      "cell_type": "code",
      "source": [
        "#retrieve text of website\n",
        "response.text"
      ],
      "metadata": {
        "colab": {
          "base_uri": "https://localhost:8080/",
          "height": 156
        },
        "id": "9rTaJD3O_CRn",
        "outputId": "6c66bb29-bd60-49ee-b5d8-3d1ef6342ad6"
      },
      "execution_count": null,
      "outputs": [
        {
          "output_type": "execute_result",
          "data": {
            "text/plain": [
              "'<!DOCTYPE html>\\n<html lang=\"en\">\\n\\n<head>\\n  <meta charset=\"UTF-8\">\\n  <title>Wisdom Pet Medicine</title>\\n  <link rel=\"stylesheet\" href=\"https://maxcdn.bootstrapcdn.com/bootstrap/3.3.1/css/bootstrap.min.css\">\\n  <link rel=\"stylesheet\" href=\"css/style.css\">\\n  <script src=\"js/prefixfree.min.js\"></script>\\n  <meta name=\"viewport\" content=\"width=device-width, initial-scale=1\">\\n</head>\\n\\n<body>\\n\\n<header>\\n  <nav class=\"navbar navbar-default navbar-fixed-top\" role=\"navigation\">\\n    <div class=\"container\">\\n      <div class=\"navbar-header\">\\n        <button type=\"button\" class=\"navbar-toggle collapsed\" data-toggle=\"collapse\" data-target=\"#collapse\">\\n          <span class=\"sr-only\">Toggle navigation</span>\\n          <span class=\"icon-bar\"></span>\\n          <span class=\"icon-bar\"></span>\\n          <span class=\"icon-bar\"></span>\\n        </button>\\n        <a class=\"navbar-brand\" href=\"#featured\"><h1>Wisdom <span class=\"subhead\">Pet Medicine</span></h1></a>\\n      </div><!-- navbar-header -->\\n      <div class=\"collapse navbar-collapse\" id=\"collapse\">\\n        <ul class=\"nav navbar-nav navbar-right\">\\n          <li class=\"active\"><a href=\"#featured\">Home</a></li>\\n          <li><a href=\"#mission\">Mission</a></li>\\n          <li><a href=\"#services\">Services</a></li>\\n          <li><a href=\"#staff\">Staff</a></li>\\n          <li><a href=\"#testimonials\">Testimonials</a></li>\\n        </ul>        \\n      </div><!-- collapse navbar-collapse -->\\n    </div><!-- container -->\\n  </nav>\\n\\n  <div class=\"carousel fade\" data-ride=\"carousel\" id=\"featured\">\\n\\n    <ol class=\"carousel-indicators\">\\n    </ol>\\n\\n    <div class=\"carousel-inner fullheight\">\\n      <div class=\"item\"><img src=\"images/carousel-lifestyle.jpg\" alt=\"Lifestyle Photo\"></div>\\n      <div class=\"item\"><img src=\"images/carousel-mission.jpg\" alt=\"Mission\"></div>\\n      <div class=\"item\"><img src=\"images/carousel-vaccinations.jpg\" alt=\"Vaccinations\"></div>\\n      <div class=\"item\"><img src=\"images/carousel-parakeet.jpg\" alt=\"Fish\"></div>\\n      <div class=\"item\"><img src=\"images/carousel-exoticanimals.jpg\" alt=\"Exotic Animals\"></div>      \\n    </div><!-- carousel-inner -->\\n\\n    <a class=\"left carousel-control\" href=\"#featured\" role=\"button\" data-slide=\"prev\">\\n      <span class=\"glyphicon glyphicon-chevron-left\"></span>\\n    </a>\\n    <a class=\"right carousel-control\" href=\"#featured\" role=\"button\" data-slide=\"next\">\\n      <span class=\"glyphicon glyphicon-chevron-right\"></span>\\n    </a>\\n  </div><!-- featured carousel -->\\n</header>\\n\\n<div class=\"main\">\\n  <div class=\"page\" id=\"mission\">\\n    <div class=\"content container\">\\n      <h2>Our Mission</h2>      \\n      <div class=\"row\">\\n        <p class=\"col-md-5 col-md-offset-1\">Wisdom Pet Medicine strives to blend the best in traditional and alternative medicine in the diagnosis and treatment of companion animals including dogs, cats, birds, reptiles, rodents, and fish. We apply the wisdom garnered in the centuries old tradition of veterinary medicine, to find the safest treatments and&nbsp;cures.</p>\\n        <p class=\"col-md-5\">We strive to be your pet\\'s medical experts from youth through the senior years. We build preventative health care plans for each and every one of our patients, based on breed, age, and sex, so that your pet receives the most appropriate care at crucial milestones. We want to give your pet a long and healthy&nbsp;life.</p>\\n      </div><!-- row -->\\n    </div><!-- content container -->\\n  </div><!-- mission page -->\\n\\n  <div class=\"page\" id=\"services\">\\n    <div class=\"content container\">\\n      <h2>Services</h2>\\n      <div class=\"row\">\\n        <article class=\"service col-md-4 col-sm-6 col-xs-12\">\\n          <img class=\"icon\" src=\"images/icon-exoticpets.svg\" alt=\"Icon\">\\n          <h3>Exotic Pets</h3>\\n          <p>We offer specialized care for reptiles, rodents, birds, and other exotic pets.</p>\\n        </article>\\n\\n        <article class=\"service col-md-4 col-sm-6 col-xs-12\">\\n          <img class=\"icon\" src=\"images/icon-grooming.svg\" alt=\"Icon\">\\n          <h3>Grooming</h3>\\n          <p>Our therapeutic grooming treatments help battle fleas, allergic dermatitis, and other challenging skin conditions.</p>\\n        </article>\\n\\n        <article class=\"service col-md-4 col-sm-6 col-xs-12\">\\n          <img class=\"icon\" src=\"images/icon-health.svg\" alt=\"Icon\">\\n          <h3>GeneralHealth</h3>\\n          <p>Wellness and senior exams, ultrasound, x-ray, and dental cleanings are just a few of our general health services.</p>\\n        </article>\\n\\n        <article class=\"service col-md-4 col-sm-6 col-xs-12\">\\n          <img class=\"icon\" src=\"images/icon-nutrition.svg\" alt=\"Icon\">\\n          <h3>Nutrition</h3>\\n          <p>Let our nutrition experts review your pet\\'s diet and prescribe a custom nutrition plan for optimum health and disease prevention.</p>\\n        </article>\\n\\n        <article class=\"service col-md-4 col-sm-6 col-xs-12\">\\n          <img class=\"icon\" src=\"images/icon-pestcontrol.svg\" alt=\"Icon\">\\n          <h3>Pest Control</h3>\\n          <p>We offer the latest advances in safe and effective prevention and treatment of fleas, ticks, worms, heart worm, and other parasites.</p>\\n        </article>\\n\\n        <article class=\"service col-md-4 col-sm-6 col-xs-12\">\\n          <img class=\"icon\" src=\"images/icon-vaccinations.svg\" alt=\"Icon\">\\n          <h3>Vaccinations</h3>\\n          <p>Our veterinarians are experienced in modern vaccination protocols that prevent many of the deadliest diseases in pets.</p>\\n        </article>   \\n      </div><!-- row -->   \\n    </div><!-- content container -->\\n  </div><!-- services page -->\\n\\n  <div class=\"page\" id=\"staff\">\\n    <div class=\"container-fluid\">\\n      <h2 id=\"ourstaff\">Our Staff</h2>\\n      <div class=\"row\">\\n\\n        <div class=\"doctor col-lg-4\">\\n          <div class=\"row\">\\n            <div class=\"photo col-xs-6 col-xs-offset-3 col-sm-3 col-sm-offset-1 col-md-2 col-md-offset-2 col-lg-4 col-lg-offset-0\">\\n              <img class=\"img-circle\" src=\"images/doctor-winthrop.jpg\" alt=\"Photo of Dr Sanders\">\\n            </div><!-- photo -->\\n            <div class=\"info col-xs-8 col-xs-offset-2 col-sm-7 col-sm-offset-0 col-md-6 col-lg-8\">\\n              <h3>Dr. Winthrop</h3>\\n              <p>Dr. Winthrop is the guardian of Missy, a three-year old Llaso mix, who he adopted at the shelter. Dr. Winthrop is passionate about spay and neuter and pet adoption, and works tireless hours outside the clinic, performing free spay and neuter surgeries for the shelter.</p>\\n            </div><!-- info -->\\n          </div> <!-- inner row -->\\n        </div> <!-- doctor -->\\n\\n        <div class=\"doctor col-lg-4\">\\n          <div class=\"row\">\\n            <div class=\"photo col-xs-6 col-xs-offset-3 col-sm-3 col-sm-offset-1 col-md-2 col-md-offset-2 col-lg-4 col-lg-offset-0\">\\n              <img class=\"img-circle\" src=\"images/doctor-chase.jpg\"  alt=\"Photo of Dr Sanders\">\\n            </div><!-- photo -->\\n            <div class=\"info col-xs-8 col-xs-offset-2 col-sm-7 col-sm-offset-0 col-md-6 col-lg-8\">\\n              <h3>Dr. Chase</h3>\\n              <p>Dr. Chase spends much of her free time helping the local rescue organization find homes for animals, such as Kibbles - a Maine Coon Cat who is part of the large Chase household, including two dogs, three cats, and a turtle.</p>\\n            </div><!-- info -->\\n          </div> <!-- inner row -->\\n        </div> <!-- doctor -->\\n\\n        <div class=\"doctor col-lg-4\">\\n          <div class=\"row\">\\n            <div class=\"photo col-xs-6 col-xs-offset-3 col-sm-3 col-sm-offset-1 col-md-2 col-md-offset-2 col-lg-4 col-lg-offset-0\">\\n              <img class=\"img-circle\" src=\"images/doctor-sanders.jpg\" alt=\"Photo of Dr Sanders\">\\n            </div><!-- photo -->\\n            <div class=\"info col-xs-8 col-xs-offset-2 col-sm-7 col-sm-offset-0 col-md-6 col-lg-8\">\\n              <h3>Dr Sanders</h3>\\n             <p>Leroy walked into Dr. Sanders front door when he was moving into a new house. After searching for weeks for Leroy\\'s guardians, he decided to make Leroy a part of his pet family, and now has three cats.</p>\\n            </div><!-- info -->\\n          </div> <!-- inner row -->\\n        </div> <!-- doctor -->\\n\\n\\n      </div><!-- outer row -->\\n    </div><!-- container -->\\n  </div><!-- staff page -->\\n\\n  <div class=\"page\" id=\"testimonials\">\\n    <div class=\"container-fluid\">\\n      <h2>Testimonials</h2>\\n      <div class=\"row\">\\n        <blockquote class=\"col-md-6 col-lg-3\" id=\"janeh\">\\n          <div class=\"quote\">\\n            <span class=\"intro\">During the summer, our rabbit, Tonto, began to have severe redness</span>\\n            <span class=\"more\"> and itching on his belly and feet. Through diagnostic testing, we learned that Tonto is severely allergic to over a dozens kinds of grass pollens. We\\'ve now been doing allergy injections for several months, and his itching and redness have nearly gone away. I\\'m very thankful to the veterinarians and staff at Wisdom for the excellent care Tonto received, and for nipping his allergies in the bud, so to speak.</span>\\n            <span class=\"customer\">Jane H.</span>\\n          </div>\\n        </blockquote>\\n\\n        <blockquote class=\"col-md-6 col-lg-3\" id=\"mcphersons\">\\n          <div class=\"quote\">\\n            <span class=\"intro\">When Samantha, our Siamese cat, began sleeping all the time</span>\\n            <span class=\"more\">and urinating excessively, we brought her to see the specialists at Wisdom. After running a blood test, Dr. Winthrop confirmed what we all feared - Samantha was showing signs of diabetes. The doctor put us on a daily routine to provide Samantha insulin injections, and showed us how to administer the shots. We weren\\'t sure we could do it, but the gang at Wisdom was very supportive and encouraging. Now, two years later, Samantha is still free from any complications of diabetes, and her blood sugar regularly tests normal. Thank you, Wisdom Pet Medicine!</span>\\n            <span class=\"customer\">The McPhersons</span>\\n          </div>\\n        </blockquote>\\n\\n        <blockquote class=\"col-md-6 col-lg-3\" id=\"johnb\">\\n          <div class=\"quote\">\\n            <span class=\"intro\">The staff at Wisdom worked tirelessly to determine why our three-year old</span>\\n            <span class=\"more\">Golden Retriever, Roxie, started going into sudden kidney failure. They stabilized her and provided fluids until her kidneys were again functioning normally, but it was still a mystery as to what caused her health to decline so quickly. The vet noted our address on Roxie\\'s chart, and asked if we lived on one of the orchards in the vicinity, and if Roxie had a habit of eating grapes off the vine. Our answer was \"of course â\\x80\\x93 she\\'s a Retriever.\" That day we learned just how toxic grapes and raisins are to pets, and Roxie is no longer allowed to roam unattended in the orchard.</span>\\n            <span class=\"customer\">John B</span>\\n          </div>\\n        </blockquote>\\n\\n        <blockquote class=\"col-md-6 col-lg-3\" id=\"lorraines\">\\n          <div class=\"quote\">\\n            <span class=\"intro\">Wisdom Pet Medicine is the only clinic around that will even</span>\\n            <span class=\"more\">book pet fish for appointments. When our 13-year old Comet goldfish, McAllister, turned from silvery white to an angry red, we called around, urgently trying to find a veterinarian who could help. Wisdom not only got us in the same day, but also was able to diagnose McAllister as having a severe case of septicemia. In order to kill the harmful bacteria in his blood, we had to use a dog antibiotic in his tank every day for a week, and in the end, McAllister was good as new. I still smile upon remembering Dr. Chase pulling out an old vet school textbook to calculate the correct antibiotic dose for a fish!</span>\\n            <span class=\"customer\">Lorraine S</span>\\n          </div>\\n        </blockquote>          \\n      </div>\\n    </div><!-- container -->\\n  </div><!-- testimonials page -->\\n</div><!-- main -->\\n\\n<footer>\\n  <div class=\"content container-fluid\">\\n    <div class=\"row\">\\n      <div class=\"col-sm-6\">\\n        <p>Call us toll-free at <span class=\"phone\">888-555-1212</span></p>\\n        <p>All contents &copy; 2014 <a href=\"http://lynda.com\">Lynda.com</a>. All rights reserved.</p>    \\n      </div><!-- col-sm-6 -->\\n      <div class=\"col-sm-6\">\\n        <nav class=\"navbar navbar-default\" role=\"navigation\">\\n          <ul class=\"nav navbar-nav navbar-right\">\\n            <li><a href=\"#\">Terms of use</a></li>\\n            <li><a href=\"#\">Privacy policy</a></li>\\n          </ul>\\n        </nav>        \\n      </div><!-- col-sm-6 -->\\n    </div><!-- row -->\\n  </div><!-- content container -->\\n</footer>\\n\\n<script src=\"https://ajax.googleapis.com/ajax/libs/jquery/1.11.1/jquery.min.js\"></script>\\n<script src=\"https://maxcdn.bootstrapcdn.com/bootstrap/3.3.1/js/bootstrap.min.js\"></script>\\n<script src=\"js/myscript.js\"></script>\\n</body>\\n</html>\\n'"
            ],
            "application/vnd.google.colaboratory.intrinsic+json": {
              "type": "string"
            }
          },
          "metadata": {},
          "execution_count": 30
        }
      ]
    },
    {
      "cell_type": "markdown",
      "source": [
        "**How to use BeautifulSoup**\n",
        "\n",
        "---\n",
        "\n"
      ],
      "metadata": {
        "id": "okeDJgnA_gwk"
      }
    },
    {
      "cell_type": "code",
      "source": [
        "#install Beautiful Soup Package\n",
        "%pip install bs4"
      ],
      "metadata": {
        "colab": {
          "base_uri": "https://localhost:8080/"
        },
        "id": "IcIEneGl_Q1c",
        "outputId": "b20e960e-3592-489d-9dca-bde5557360e9"
      },
      "execution_count": null,
      "outputs": [
        {
          "output_type": "stream",
          "name": "stdout",
          "text": [
            "Requirement already satisfied: bs4 in /usr/local/lib/python3.10/dist-packages (0.0.1)\n",
            "Requirement already satisfied: beautifulsoup4 in /usr/local/lib/python3.10/dist-packages (from bs4) (4.11.2)\n",
            "Requirement already satisfied: soupsieve>1.2 in /usr/local/lib/python3.10/dist-packages (from beautifulsoup4->bs4) (2.4.1)\n"
          ]
        }
      ]
    },
    {
      "cell_type": "code",
      "source": [
        "#import Beautiful Soup package\n",
        "from bs4 import BeautifulSoup"
      ],
      "metadata": {
        "id": "WPZ5q--z_gH3"
      },
      "execution_count": null,
      "outputs": []
    },
    {
      "cell_type": "code",
      "source": [
        "soup = BeautifulSoup(response.text)"
      ],
      "metadata": {
        "id": "NgasWL0a_ldG"
      },
      "execution_count": null,
      "outputs": []
    },
    {
      "cell_type": "code",
      "source": [
        "#prettify the html code\n",
        "print(soup.prettify())"
      ],
      "metadata": {
        "colab": {
          "base_uri": "https://localhost:8080/"
        },
        "id": "keraGVSx_qMl",
        "outputId": "b016ba73-ddf4-47aa-f76e-bc2f914536b5"
      },
      "execution_count": null,
      "outputs": [
        {
          "output_type": "stream",
          "name": "stdout",
          "text": [
            "<!DOCTYPE html>\n",
            "<html lang=\"en\">\n",
            " <head>\n",
            "  <meta charset=\"utf-8\"/>\n",
            "  <title>\n",
            "   Wisdom Pet Medicine\n",
            "  </title>\n",
            "  <link href=\"https://maxcdn.bootstrapcdn.com/bootstrap/3.3.1/css/bootstrap.min.css\" rel=\"stylesheet\"/>\n",
            "  <link href=\"css/style.css\" rel=\"stylesheet\"/>\n",
            "  <script src=\"js/prefixfree.min.js\">\n",
            "  </script>\n",
            "  <meta content=\"width=device-width, initial-scale=1\" name=\"viewport\"/>\n",
            " </head>\n",
            " <body>\n",
            "  <header>\n",
            "   <nav class=\"navbar navbar-default navbar-fixed-top\" role=\"navigation\">\n",
            "    <div class=\"container\">\n",
            "     <div class=\"navbar-header\">\n",
            "      <button class=\"navbar-toggle collapsed\" data-target=\"#collapse\" data-toggle=\"collapse\" type=\"button\">\n",
            "       <span class=\"sr-only\">\n",
            "        Toggle navigation\n",
            "       </span>\n",
            "       <span class=\"icon-bar\">\n",
            "       </span>\n",
            "       <span class=\"icon-bar\">\n",
            "       </span>\n",
            "       <span class=\"icon-bar\">\n",
            "       </span>\n",
            "      </button>\n",
            "      <a class=\"navbar-brand\" href=\"#featured\">\n",
            "       <h1>\n",
            "        Wisdom\n",
            "        <span class=\"subhead\">\n",
            "         Pet Medicine\n",
            "        </span>\n",
            "       </h1>\n",
            "      </a>\n",
            "     </div>\n",
            "     <!-- navbar-header -->\n",
            "     <div class=\"collapse navbar-collapse\" id=\"collapse\">\n",
            "      <ul class=\"nav navbar-nav navbar-right\">\n",
            "       <li class=\"active\">\n",
            "        <a href=\"#featured\">\n",
            "         Home\n",
            "        </a>\n",
            "       </li>\n",
            "       <li>\n",
            "        <a href=\"#mission\">\n",
            "         Mission\n",
            "        </a>\n",
            "       </li>\n",
            "       <li>\n",
            "        <a href=\"#services\">\n",
            "         Services\n",
            "        </a>\n",
            "       </li>\n",
            "       <li>\n",
            "        <a href=\"#staff\">\n",
            "         Staff\n",
            "        </a>\n",
            "       </li>\n",
            "       <li>\n",
            "        <a href=\"#testimonials\">\n",
            "         Testimonials\n",
            "        </a>\n",
            "       </li>\n",
            "      </ul>\n",
            "     </div>\n",
            "     <!-- collapse navbar-collapse -->\n",
            "    </div>\n",
            "    <!-- container -->\n",
            "   </nav>\n",
            "   <div class=\"carousel fade\" data-ride=\"carousel\" id=\"featured\">\n",
            "    <ol class=\"carousel-indicators\">\n",
            "    </ol>\n",
            "    <div class=\"carousel-inner fullheight\">\n",
            "     <div class=\"item\">\n",
            "      <img alt=\"Lifestyle Photo\" src=\"images/carousel-lifestyle.jpg\"/>\n",
            "     </div>\n",
            "     <div class=\"item\">\n",
            "      <img alt=\"Mission\" src=\"images/carousel-mission.jpg\"/>\n",
            "     </div>\n",
            "     <div class=\"item\">\n",
            "      <img alt=\"Vaccinations\" src=\"images/carousel-vaccinations.jpg\"/>\n",
            "     </div>\n",
            "     <div class=\"item\">\n",
            "      <img alt=\"Fish\" src=\"images/carousel-parakeet.jpg\"/>\n",
            "     </div>\n",
            "     <div class=\"item\">\n",
            "      <img alt=\"Exotic Animals\" src=\"images/carousel-exoticanimals.jpg\"/>\n",
            "     </div>\n",
            "    </div>\n",
            "    <!-- carousel-inner -->\n",
            "    <a class=\"left carousel-control\" data-slide=\"prev\" href=\"#featured\" role=\"button\">\n",
            "     <span class=\"glyphicon glyphicon-chevron-left\">\n",
            "     </span>\n",
            "    </a>\n",
            "    <a class=\"right carousel-control\" data-slide=\"next\" href=\"#featured\" role=\"button\">\n",
            "     <span class=\"glyphicon glyphicon-chevron-right\">\n",
            "     </span>\n",
            "    </a>\n",
            "   </div>\n",
            "   <!-- featured carousel -->\n",
            "  </header>\n",
            "  <div class=\"main\">\n",
            "   <div class=\"page\" id=\"mission\">\n",
            "    <div class=\"content container\">\n",
            "     <h2>\n",
            "      Our Mission\n",
            "     </h2>\n",
            "     <div class=\"row\">\n",
            "      <p class=\"col-md-5 col-md-offset-1\">\n",
            "       Wisdom Pet Medicine strives to blend the best in traditional and alternative medicine in the diagnosis and treatment of companion animals including dogs, cats, birds, reptiles, rodents, and fish. We apply the wisdom garnered in the centuries old tradition of veterinary medicine, to find the safest treatments and cures.\n",
            "      </p>\n",
            "      <p class=\"col-md-5\">\n",
            "       We strive to be your pet's medical experts from youth through the senior years. We build preventative health care plans for each and every one of our patients, based on breed, age, and sex, so that your pet receives the most appropriate care at crucial milestones. We want to give your pet a long and healthy life.\n",
            "      </p>\n",
            "     </div>\n",
            "     <!-- row -->\n",
            "    </div>\n",
            "    <!-- content container -->\n",
            "   </div>\n",
            "   <!-- mission page -->\n",
            "   <div class=\"page\" id=\"services\">\n",
            "    <div class=\"content container\">\n",
            "     <h2>\n",
            "      Services\n",
            "     </h2>\n",
            "     <div class=\"row\">\n",
            "      <article class=\"service col-md-4 col-sm-6 col-xs-12\">\n",
            "       <img alt=\"Icon\" class=\"icon\" src=\"images/icon-exoticpets.svg\"/>\n",
            "       <h3>\n",
            "        Exotic Pets\n",
            "       </h3>\n",
            "       <p>\n",
            "        We offer specialized care for reptiles, rodents, birds, and other exotic pets.\n",
            "       </p>\n",
            "      </article>\n",
            "      <article class=\"service col-md-4 col-sm-6 col-xs-12\">\n",
            "       <img alt=\"Icon\" class=\"icon\" src=\"images/icon-grooming.svg\"/>\n",
            "       <h3>\n",
            "        Grooming\n",
            "       </h3>\n",
            "       <p>\n",
            "        Our therapeutic grooming treatments help battle fleas, allergic dermatitis, and other challenging skin conditions.\n",
            "       </p>\n",
            "      </article>\n",
            "      <article class=\"service col-md-4 col-sm-6 col-xs-12\">\n",
            "       <img alt=\"Icon\" class=\"icon\" src=\"images/icon-health.svg\"/>\n",
            "       <h3>\n",
            "        GeneralHealth\n",
            "       </h3>\n",
            "       <p>\n",
            "        Wellness and senior exams, ultrasound, x-ray, and dental cleanings are just a few of our general health services.\n",
            "       </p>\n",
            "      </article>\n",
            "      <article class=\"service col-md-4 col-sm-6 col-xs-12\">\n",
            "       <img alt=\"Icon\" class=\"icon\" src=\"images/icon-nutrition.svg\"/>\n",
            "       <h3>\n",
            "        Nutrition\n",
            "       </h3>\n",
            "       <p>\n",
            "        Let our nutrition experts review your pet's diet and prescribe a custom nutrition plan for optimum health and disease prevention.\n",
            "       </p>\n",
            "      </article>\n",
            "      <article class=\"service col-md-4 col-sm-6 col-xs-12\">\n",
            "       <img alt=\"Icon\" class=\"icon\" src=\"images/icon-pestcontrol.svg\"/>\n",
            "       <h3>\n",
            "        Pest Control\n",
            "       </h3>\n",
            "       <p>\n",
            "        We offer the latest advances in safe and effective prevention and treatment of fleas, ticks, worms, heart worm, and other parasites.\n",
            "       </p>\n",
            "      </article>\n",
            "      <article class=\"service col-md-4 col-sm-6 col-xs-12\">\n",
            "       <img alt=\"Icon\" class=\"icon\" src=\"images/icon-vaccinations.svg\"/>\n",
            "       <h3>\n",
            "        Vaccinations\n",
            "       </h3>\n",
            "       <p>\n",
            "        Our veterinarians are experienced in modern vaccination protocols that prevent many of the deadliest diseases in pets.\n",
            "       </p>\n",
            "      </article>\n",
            "     </div>\n",
            "     <!-- row -->\n",
            "    </div>\n",
            "    <!-- content container -->\n",
            "   </div>\n",
            "   <!-- services page -->\n",
            "   <div class=\"page\" id=\"staff\">\n",
            "    <div class=\"container-fluid\">\n",
            "     <h2 id=\"ourstaff\">\n",
            "      Our Staff\n",
            "     </h2>\n",
            "     <div class=\"row\">\n",
            "      <div class=\"doctor col-lg-4\">\n",
            "       <div class=\"row\">\n",
            "        <div class=\"photo col-xs-6 col-xs-offset-3 col-sm-3 col-sm-offset-1 col-md-2 col-md-offset-2 col-lg-4 col-lg-offset-0\">\n",
            "         <img alt=\"Photo of Dr Sanders\" class=\"img-circle\" src=\"images/doctor-winthrop.jpg\"/>\n",
            "        </div>\n",
            "        <!-- photo -->\n",
            "        <div class=\"info col-xs-8 col-xs-offset-2 col-sm-7 col-sm-offset-0 col-md-6 col-lg-8\">\n",
            "         <h3>\n",
            "          Dr. Winthrop\n",
            "         </h3>\n",
            "         <p>\n",
            "          Dr. Winthrop is the guardian of Missy, a three-year old Llaso mix, who he adopted at the shelter. Dr. Winthrop is passionate about spay and neuter and pet adoption, and works tireless hours outside the clinic, performing free spay and neuter surgeries for the shelter.\n",
            "         </p>\n",
            "        </div>\n",
            "        <!-- info -->\n",
            "       </div>\n",
            "       <!-- inner row -->\n",
            "      </div>\n",
            "      <!-- doctor -->\n",
            "      <div class=\"doctor col-lg-4\">\n",
            "       <div class=\"row\">\n",
            "        <div class=\"photo col-xs-6 col-xs-offset-3 col-sm-3 col-sm-offset-1 col-md-2 col-md-offset-2 col-lg-4 col-lg-offset-0\">\n",
            "         <img alt=\"Photo of Dr Sanders\" class=\"img-circle\" src=\"images/doctor-chase.jpg\"/>\n",
            "        </div>\n",
            "        <!-- photo -->\n",
            "        <div class=\"info col-xs-8 col-xs-offset-2 col-sm-7 col-sm-offset-0 col-md-6 col-lg-8\">\n",
            "         <h3>\n",
            "          Dr. Chase\n",
            "         </h3>\n",
            "         <p>\n",
            "          Dr. Chase spends much of her free time helping the local rescue organization find homes for animals, such as Kibbles - a Maine Coon Cat who is part of the large Chase household, including two dogs, three cats, and a turtle.\n",
            "         </p>\n",
            "        </div>\n",
            "        <!-- info -->\n",
            "       </div>\n",
            "       <!-- inner row -->\n",
            "      </div>\n",
            "      <!-- doctor -->\n",
            "      <div class=\"doctor col-lg-4\">\n",
            "       <div class=\"row\">\n",
            "        <div class=\"photo col-xs-6 col-xs-offset-3 col-sm-3 col-sm-offset-1 col-md-2 col-md-offset-2 col-lg-4 col-lg-offset-0\">\n",
            "         <img alt=\"Photo of Dr Sanders\" class=\"img-circle\" src=\"images/doctor-sanders.jpg\"/>\n",
            "        </div>\n",
            "        <!-- photo -->\n",
            "        <div class=\"info col-xs-8 col-xs-offset-2 col-sm-7 col-sm-offset-0 col-md-6 col-lg-8\">\n",
            "         <h3>\n",
            "          Dr Sanders\n",
            "         </h3>\n",
            "         <p>\n",
            "          Leroy walked into Dr. Sanders front door when he was moving into a new house. After searching for weeks for Leroy's guardians, he decided to make Leroy a part of his pet family, and now has three cats.\n",
            "         </p>\n",
            "        </div>\n",
            "        <!-- info -->\n",
            "       </div>\n",
            "       <!-- inner row -->\n",
            "      </div>\n",
            "      <!-- doctor -->\n",
            "     </div>\n",
            "     <!-- outer row -->\n",
            "    </div>\n",
            "    <!-- container -->\n",
            "   </div>\n",
            "   <!-- staff page -->\n",
            "   <div class=\"page\" id=\"testimonials\">\n",
            "    <div class=\"container-fluid\">\n",
            "     <h2>\n",
            "      Testimonials\n",
            "     </h2>\n",
            "     <div class=\"row\">\n",
            "      <blockquote class=\"col-md-6 col-lg-3\" id=\"janeh\">\n",
            "       <div class=\"quote\">\n",
            "        <span class=\"intro\">\n",
            "         During the summer, our rabbit, Tonto, began to have severe redness\n",
            "        </span>\n",
            "        <span class=\"more\">\n",
            "         and itching on his belly and feet. Through diagnostic testing, we learned that Tonto is severely allergic to over a dozens kinds of grass pollens. We've now been doing allergy injections for several months, and his itching and redness have nearly gone away. I'm very thankful to the veterinarians and staff at Wisdom for the excellent care Tonto received, and for nipping his allergies in the bud, so to speak.\n",
            "        </span>\n",
            "        <span class=\"customer\">\n",
            "         Jane H.\n",
            "        </span>\n",
            "       </div>\n",
            "      </blockquote>\n",
            "      <blockquote class=\"col-md-6 col-lg-3\" id=\"mcphersons\">\n",
            "       <div class=\"quote\">\n",
            "        <span class=\"intro\">\n",
            "         When Samantha, our Siamese cat, began sleeping all the time\n",
            "        </span>\n",
            "        <span class=\"more\">\n",
            "         and urinating excessively, we brought her to see the specialists at Wisdom. After running a blood test, Dr. Winthrop confirmed what we all feared - Samantha was showing signs of diabetes. The doctor put us on a daily routine to provide Samantha insulin injections, and showed us how to administer the shots. We weren't sure we could do it, but the gang at Wisdom was very supportive and encouraging. Now, two years later, Samantha is still free from any complications of diabetes, and her blood sugar regularly tests normal. Thank you, Wisdom Pet Medicine!\n",
            "        </span>\n",
            "        <span class=\"customer\">\n",
            "         The McPhersons\n",
            "        </span>\n",
            "       </div>\n",
            "      </blockquote>\n",
            "      <blockquote class=\"col-md-6 col-lg-3\" id=\"johnb\">\n",
            "       <div class=\"quote\">\n",
            "        <span class=\"intro\">\n",
            "         The staff at Wisdom worked tirelessly to determine why our three-year old\n",
            "        </span>\n",
            "        <span class=\"more\">\n",
            "         Golden Retriever, Roxie, started going into sudden kidney failure. They stabilized her and provided fluids until her kidneys were again functioning normally, but it was still a mystery as to what caused her health to decline so quickly. The vet noted our address on Roxie's chart, and asked if we lived on one of the orchards in the vicinity, and if Roxie had a habit of eating grapes off the vine. Our answer was \"of course â she's a Retriever.\" That day we learned just how toxic grapes and raisins are to pets, and Roxie is no longer allowed to roam unattended in the orchard.\n",
            "        </span>\n",
            "        <span class=\"customer\">\n",
            "         John B\n",
            "        </span>\n",
            "       </div>\n",
            "      </blockquote>\n",
            "      <blockquote class=\"col-md-6 col-lg-3\" id=\"lorraines\">\n",
            "       <div class=\"quote\">\n",
            "        <span class=\"intro\">\n",
            "         Wisdom Pet Medicine is the only clinic around that will even\n",
            "        </span>\n",
            "        <span class=\"more\">\n",
            "         book pet fish for appointments. When our 13-year old Comet goldfish, McAllister, turned from silvery white to an angry red, we called around, urgently trying to find a veterinarian who could help. Wisdom not only got us in the same day, but also was able to diagnose McAllister as having a severe case of septicemia. In order to kill the harmful bacteria in his blood, we had to use a dog antibiotic in his tank every day for a week, and in the end, McAllister was good as new. I still smile upon remembering Dr. Chase pulling out an old vet school textbook to calculate the correct antibiotic dose for a fish!\n",
            "        </span>\n",
            "        <span class=\"customer\">\n",
            "         Lorraine S\n",
            "        </span>\n",
            "       </div>\n",
            "      </blockquote>\n",
            "     </div>\n",
            "    </div>\n",
            "    <!-- container -->\n",
            "   </div>\n",
            "   <!-- testimonials page -->\n",
            "  </div>\n",
            "  <!-- main -->\n",
            "  <footer>\n",
            "   <div class=\"content container-fluid\">\n",
            "    <div class=\"row\">\n",
            "     <div class=\"col-sm-6\">\n",
            "      <p>\n",
            "       Call us toll-free at\n",
            "       <span class=\"phone\">\n",
            "        888-555-1212\n",
            "       </span>\n",
            "      </p>\n",
            "      <p>\n",
            "       All contents © 2014\n",
            "       <a href=\"http://lynda.com\">\n",
            "        Lynda.com\n",
            "       </a>\n",
            "       . All rights reserved.\n",
            "      </p>\n",
            "     </div>\n",
            "     <!-- col-sm-6 -->\n",
            "     <div class=\"col-sm-6\">\n",
            "      <nav class=\"navbar navbar-default\" role=\"navigation\">\n",
            "       <ul class=\"nav navbar-nav navbar-right\">\n",
            "        <li>\n",
            "         <a href=\"#\">\n",
            "          Terms of use\n",
            "         </a>\n",
            "        </li>\n",
            "        <li>\n",
            "         <a href=\"#\">\n",
            "          Privacy policy\n",
            "         </a>\n",
            "        </li>\n",
            "       </ul>\n",
            "      </nav>\n",
            "     </div>\n",
            "     <!-- col-sm-6 -->\n",
            "    </div>\n",
            "    <!-- row -->\n",
            "   </div>\n",
            "   <!-- content container -->\n",
            "  </footer>\n",
            "  <script src=\"https://ajax.googleapis.com/ajax/libs/jquery/1.11.1/jquery.min.js\">\n",
            "  </script>\n",
            "  <script src=\"https://maxcdn.bootstrapcdn.com/bootstrap/3.3.1/js/bootstrap.min.js\">\n",
            "  </script>\n",
            "  <script src=\"js/myscript.js\">\n",
            "  </script>\n",
            " </body>\n",
            "</html>\n",
            "\n"
          ]
        }
      ]
    },
    {
      "cell_type": "markdown",
      "source": [
        "Using find() and find_all() commands"
      ],
      "metadata": {
        "id": "KrhdOFoiABPC"
      }
    },
    {
      "cell_type": "code",
      "source": [
        "#find where the first title tag occurs in the code\n",
        "soup.find(\"title\")"
      ],
      "metadata": {
        "colab": {
          "base_uri": "https://localhost:8080/"
        },
        "id": "A3YaIGBK_sQG",
        "outputId": "134f18fd-189e-485d-c5f0-f0087f90e8f0"
      },
      "execution_count": null,
      "outputs": [
        {
          "output_type": "execute_result",
          "data": {
            "text/plain": [
              "<title>Wisdom Pet Medicine</title>"
            ]
          },
          "metadata": {},
          "execution_count": 35
        }
      ]
    },
    {
      "cell_type": "code",
      "source": [
        "#find all times article tag occurs in code for services list\n",
        "soup.find_all(\"article\")"
      ],
      "metadata": {
        "colab": {
          "base_uri": "https://localhost:8080/"
        },
        "id": "cO_ycOJMALtS",
        "outputId": "cab114f3-649e-4f6f-acc1-ec58dbb0ca4f"
      },
      "execution_count": null,
      "outputs": [
        {
          "output_type": "execute_result",
          "data": {
            "text/plain": [
              "[<article class=\"service col-md-4 col-sm-6 col-xs-12\">\n",
              " <img alt=\"Icon\" class=\"icon\" src=\"images/icon-exoticpets.svg\"/>\n",
              " <h3>Exotic Pets</h3>\n",
              " <p>We offer specialized care for reptiles, rodents, birds, and other exotic pets.</p>\n",
              " </article>,\n",
              " <article class=\"service col-md-4 col-sm-6 col-xs-12\">\n",
              " <img alt=\"Icon\" class=\"icon\" src=\"images/icon-grooming.svg\"/>\n",
              " <h3>Grooming</h3>\n",
              " <p>Our therapeutic grooming treatments help battle fleas, allergic dermatitis, and other challenging skin conditions.</p>\n",
              " </article>,\n",
              " <article class=\"service col-md-4 col-sm-6 col-xs-12\">\n",
              " <img alt=\"Icon\" class=\"icon\" src=\"images/icon-health.svg\"/>\n",
              " <h3>GeneralHealth</h3>\n",
              " <p>Wellness and senior exams, ultrasound, x-ray, and dental cleanings are just a few of our general health services.</p>\n",
              " </article>,\n",
              " <article class=\"service col-md-4 col-sm-6 col-xs-12\">\n",
              " <img alt=\"Icon\" class=\"icon\" src=\"images/icon-nutrition.svg\"/>\n",
              " <h3>Nutrition</h3>\n",
              " <p>Let our nutrition experts review your pet's diet and prescribe a custom nutrition plan for optimum health and disease prevention.</p>\n",
              " </article>,\n",
              " <article class=\"service col-md-4 col-sm-6 col-xs-12\">\n",
              " <img alt=\"Icon\" class=\"icon\" src=\"images/icon-pestcontrol.svg\"/>\n",
              " <h3>Pest Control</h3>\n",
              " <p>We offer the latest advances in safe and effective prevention and treatment of fleas, ticks, worms, heart worm, and other parasites.</p>\n",
              " </article>,\n",
              " <article class=\"service col-md-4 col-sm-6 col-xs-12\">\n",
              " <img alt=\"Icon\" class=\"icon\" src=\"images/icon-vaccinations.svg\"/>\n",
              " <h3>Vaccinations</h3>\n",
              " <p>Our veterinarians are experienced in modern vaccination protocols that prevent many of the deadliest diseases in pets.</p>\n",
              " </article>]"
            ]
          },
          "metadata": {},
          "execution_count": 36
        }
      ]
    },
    {
      "cell_type": "code",
      "source": [
        "#find business phone number\n",
        "print(soup.find(\"span\", class_=\"phone\").text)"
      ],
      "metadata": {
        "colab": {
          "base_uri": "https://localhost:8080/"
        },
        "id": "QC5NKXFWAPp1",
        "outputId": "b8e81c21-fb8a-415d-8534-9db98308cb9d"
      },
      "execution_count": null,
      "outputs": [
        {
          "output_type": "stream",
          "name": "stdout",
          "text": [
            "888-555-1212\n"
          ]
        }
      ]
    },
    {
      "cell_type": "markdown",
      "source": [
        "Loop find_all() methods"
      ],
      "metadata": {
        "id": "bjU-B9O8AtO_"
      }
    },
    {
      "cell_type": "code",
      "source": [
        "#find all featured testimonials\n",
        "featured_testimonial = soup.find_all(\"div\", class_=\"quote\")\n",
        "for testimonial in featured_testimonial:\n",
        "  print(testimonial.text)"
      ],
      "metadata": {
        "colab": {
          "base_uri": "https://localhost:8080/"
        },
        "id": "qALx2ybtAZQn",
        "outputId": "ae0b94d6-da1d-4a31-ef25-6b7de11d51b7"
      },
      "execution_count": null,
      "outputs": [
        {
          "output_type": "stream",
          "name": "stdout",
          "text": [
            "\n",
            "During the summer, our rabbit, Tonto, began to have severe redness\n",
            " and itching on his belly and feet. Through diagnostic testing, we learned that Tonto is severely allergic to over a dozens kinds of grass pollens. We've now been doing allergy injections for several months, and his itching and redness have nearly gone away. I'm very thankful to the veterinarians and staff at Wisdom for the excellent care Tonto received, and for nipping his allergies in the bud, so to speak.\n",
            "Jane H.\n",
            "\n",
            "\n",
            "When Samantha, our Siamese cat, began sleeping all the time\n",
            "and urinating excessively, we brought her to see the specialists at Wisdom. After running a blood test, Dr. Winthrop confirmed what we all feared - Samantha was showing signs of diabetes. The doctor put us on a daily routine to provide Samantha insulin injections, and showed us how to administer the shots. We weren't sure we could do it, but the gang at Wisdom was very supportive and encouraging. Now, two years later, Samantha is still free from any complications of diabetes, and her blood sugar regularly tests normal. Thank you, Wisdom Pet Medicine!\n",
            "The McPhersons\n",
            "\n",
            "\n",
            "The staff at Wisdom worked tirelessly to determine why our three-year old\n",
            "Golden Retriever, Roxie, started going into sudden kidney failure. They stabilized her and provided fluids until her kidneys were again functioning normally, but it was still a mystery as to what caused her health to decline so quickly. The vet noted our address on Roxie's chart, and asked if we lived on one of the orchards in the vicinity, and if Roxie had a habit of eating grapes off the vine. Our answer was \"of course â she's a Retriever.\" That day we learned just how toxic grapes and raisins are to pets, and Roxie is no longer allowed to roam unattended in the orchard.\n",
            "John B\n",
            "\n",
            "\n",
            "Wisdom Pet Medicine is the only clinic around that will even\n",
            "book pet fish for appointments. When our 13-year old Comet goldfish, McAllister, turned from silvery white to an angry red, we called around, urgently trying to find a veterinarian who could help. Wisdom not only got us in the same day, but also was able to diagnose McAllister as having a severe case of septicemia. In order to kill the harmful bacteria in his blood, we had to use a dog antibiotic in his tank every day for a week, and in the end, McAllister was good as new. I still smile upon remembering Dr. Chase pulling out an old vet school textbook to calculate the correct antibiotic dose for a fish!\n",
            "Lorraine S\n",
            "\n"
          ]
        }
      ]
    },
    {
      "cell_type": "code",
      "source": [
        "#find all staff members\n",
        "staff = soup.find_all(\"div\", class_=\"info col-xs-8 col-xs-offset-2 col-sm-7 col-sm-offset-0 col-md-6 col-lg-8\")\n",
        "for s in staff:\n",
        "  print(s.text)"
      ],
      "metadata": {
        "colab": {
          "base_uri": "https://localhost:8080/"
        },
        "id": "u8ihgvsxA1t1",
        "outputId": "e1ed6e47-1247-4ffb-87c9-2f79bfeba252"
      },
      "execution_count": null,
      "outputs": [
        {
          "output_type": "stream",
          "name": "stdout",
          "text": [
            "\n",
            "Dr. Winthrop\n",
            "Dr. Winthrop is the guardian of Missy, a three-year old Llaso mix, who he adopted at the shelter. Dr. Winthrop is passionate about spay and neuter and pet adoption, and works tireless hours outside the clinic, performing free spay and neuter surgeries for the shelter.\n",
            "\n",
            "\n",
            "Dr. Chase\n",
            "Dr. Chase spends much of her free time helping the local rescue organization find homes for animals, such as Kibbles - a Maine Coon Cat who is part of the large Chase household, including two dogs, three cats, and a turtle.\n",
            "\n",
            "\n",
            "Dr Sanders\n",
            "Leroy walked into Dr. Sanders front door when he was moving into a new house. After searching for weeks for Leroy's guardians, he decided to make Leroy a part of his pet family, and now has three cats.\n",
            "\n"
          ]
        }
      ]
    },
    {
      "cell_type": "markdown",
      "source": [
        "How to retrieve web page links"
      ],
      "metadata": {
        "id": "dVI_PdQR0AeQ"
      }
    },
    {
      "cell_type": "code",
      "source": [
        "links = soup.find_all(\"a\")\n",
        "for link in links:\n",
        "  print(link.text , link.get('href'))"
      ],
      "metadata": {
        "colab": {
          "base_uri": "https://localhost:8080/"
        },
        "id": "qP_M0Fg00HT1",
        "outputId": "ea3926c8-42f6-48d1-c6e1-6f362fc934e8"
      },
      "execution_count": null,
      "outputs": [
        {
          "output_type": "stream",
          "name": "stdout",
          "text": [
            "Wisdom Pet Medicine #featured\n",
            "Home #featured\n",
            "Mission #mission\n",
            "Services #services\n",
            "Staff #staff\n",
            "Testimonials #testimonials\n",
            "\n",
            "\n",
            " #featured\n",
            "\n",
            "\n",
            " #featured\n",
            "Lynda.com http://lynda.com\n",
            "Terms of use #\n",
            "Privacy policy #\n"
          ]
        }
      ]
    },
    {
      "cell_type": "markdown",
      "source": [
        "How to write HTML code to a text file"
      ],
      "metadata": {
        "id": "AerxVozs0Z9E"
      }
    },
    {
      "cell_type": "code",
      "source": [
        "with open(\"wisdom_vet.txt\", \"w\") as f:\n",
        "  f.write(soup.prettify())"
      ],
      "metadata": {
        "id": "D5mJZtTd0P8E"
      },
      "execution_count": null,
      "outputs": []
    }
  ]
}